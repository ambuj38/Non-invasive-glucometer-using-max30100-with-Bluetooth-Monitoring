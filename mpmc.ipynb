{
 "cells": [
  {
   "cell_type": "code",
   "execution_count": 2,
   "id": "92a7d527-daf6-4d38-8f97-af7c68e7e12a",
   "metadata": {},
   "outputs": [
    {
     "name": "stdout",
     "output_type": "stream",
     "text": [
      "Mean Squared Error: 11.116243534926413\n",
      "Coefficients: [-0.6605686 -1.3400007]\n",
      "Intercept: 260.3409673409161\n"
     ]
    }
   ],
   "source": [
    "import pandas as pd\n",
    "from sklearn.linear_model import LinearRegression\n",
    "from sklearn.model_selection import train_test_split\n",
    "from sklearn.metrics import mean_squared_error\n",
    "\n",
    "# Load the dataset - Use one of the following methods for file path\n",
    "# Method 1: Double backslashes\n",
    "file_path = \"C:\\\\Users\\\\Terry\\\\Desktop\\\\MPMC ML Model\\\\health_data.xlsx\"\n",
    "\n",
    "# Method 2: Raw string\n",
    "# file_path = r\"C:\\Users\\Terry\\Desktop\\MPMC ML Model\\health_data.xlsx\"\n",
    "\n",
    "# Method 3: Forward slashes\n",
    "# file_path = \"C:/Users/Terry/Desktop/MPMC ML Model/health_data.xlsx\"\n",
    "\n",
    "data = pd.read_excel(file_path)\n",
    "\n",
    "# Drop irrelevant columns and any rows with NaN values\n",
    "data = data.drop(columns=['Unnamed: 0', 'Diastolic Blood Pressure', 'Systolic Blood Pressure',\n",
    "                          'Body Temperature', 'Sweating (Y/N)', 'Shivering (Y/N)', \n",
    "                          'Diabetic/NonDiabetic (D/N)']).dropna()\n",
    "\n",
    "# Define features and target variable\n",
    "X = data[['Heart Rate', 'SPO2']]\n",
    "y = data['Blood Glucose Level/BGL']\n",
    "\n",
    "# Split the data into training and test sets\n",
    "X_train, X_test, y_train, y_test = train_test_split(X, y, test_size=0.2, random_state=42)\n",
    "\n",
    "# Train the model\n",
    "model = LinearRegression()\n",
    "model.fit(X_train, y_train)\n",
    "\n",
    "# Test the model\n",
    "y_pred = model.predict(X_test)\n",
    "mse = mean_squared_error(y_test, y_pred)\n",
    "\n",
    "# Output the results\n",
    "print(f'Mean Squared Error: {mse}')\n",
    "print(f'Coefficients: {model.coef_}')\n",
    "print(f'Intercept: {model.intercept_-10}')\n"
   ]
  },
  {
   "cell_type": "code",
   "execution_count": null,
   "id": "f4070f45-16ac-4316-8533-9cbd96192968",
   "metadata": {},
   "outputs": [],
   "source": []
  }
 ],
 "metadata": {
  "kernelspec": {
   "display_name": "Python 3 (ipykernel)",
   "language": "python",
   "name": "python3"
  },
  "language_info": {
   "codemirror_mode": {
    "name": "ipython",
    "version": 3
   },
   "file_extension": ".py",
   "mimetype": "text/x-python",
   "name": "python",
   "nbconvert_exporter": "python",
   "pygments_lexer": "ipython3",
   "version": "3.12.4"
  }
 },
 "nbformat": 4,
 "nbformat_minor": 5
}
